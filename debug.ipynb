{
 "cells": [
  {
   "cell_type": "code",
   "execution_count": 1,
   "metadata": {},
   "outputs": [
    {
     "name": "stderr",
     "output_type": "stream",
     "text": [
      "100%|██████████| 1003/1003 [00:13<00:00, 75.94it/s]\n"
     ]
    }
   ],
   "source": [
    "from types import SimpleNamespace\n",
    "from src.experiment import ExperimentHandler \n",
    "\n",
    "system_cfg = {'punct':True, 'action':False}\n",
    "train_cfg = {'lr':1e-5, 'scheduling':False, 'epochs':3, 'print_len':100, 'bsz':8}\n",
    "\n",
    "system_cfg = SimpleNamespace(**system_cfg)\n",
    "train_cfg = SimpleNamespace(**train_cfg)\n",
    "\n",
    "E = ExperimentHandler(system_cfg)\n",
    "#E.train(train_cfg)"
   ]
  },
  {
   "cell_type": "code",
   "execution_count": 2,
   "metadata": {},
   "outputs": [
    {
     "name": "stdout",
     "output_type": "stream",
     "text": [
      "Well, \n",
      "act:  yes/no question\n"
     ]
    }
   ],
   "source": [
    "k = 12\n",
    "print(E.D.train[0][k], '\\nact: ', E.D.train[0][k].act_str)"
   ]
  },
  {
   "cell_type": "code",
   "execution_count": null,
   "metadata": {},
   "outputs": [],
   "source": []
  }
 ],
 "metadata": {
  "kernelspec": {
   "display_name": "Python 3",
   "language": "python",
   "name": "python3"
  },
  "language_info": {
   "codemirror_mode": {
    "name": "ipython",
    "version": 3
   },
   "file_extension": ".py",
   "mimetype": "text/x-python",
   "name": "python",
   "nbconvert_exporter": "python",
   "pygments_lexer": "ipython3",
   "version": "3.8.5"
  }
 },
 "nbformat": 4,
 "nbformat_minor": 4
}
