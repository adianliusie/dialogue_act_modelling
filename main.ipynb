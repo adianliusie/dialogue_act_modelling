{
 "cells": [
  {
   "cell_type": "code",
   "execution_count": 1,
   "metadata": {},
   "outputs": [
    {
     "name": "stderr",
     "output_type": "stream",
     "text": [
      "100%|██████████| 1003/1003 [00:13<00:00, 76.09it/s]\n"
     ]
    },
    {
     "name": "stdout",
     "output_type": "stream",
     "text": [
      "200    1.968    0.486\n",
      "400    1.278    0.633\n",
      "600    1.156    0.661\n",
      "800    1.047    0.701\n",
      "1000   1.017    0.712\n",
      "1200   0.941    0.724\n",
      "1400   0.876    0.751\n",
      "1600   0.883    0.733\n",
      "1800   0.832    0.754\n",
      "2000   0.805    0.762\n",
      "2200   0.864    0.733\n",
      "2400   0.798    0.759\n",
      "2600   0.830    0.751\n",
      "2800   0.829    0.748\n",
      "3000   0.848    0.739\n",
      "3200   0.746    0.772\n",
      "3400   0.799    0.751\n",
      "3600   0.770    0.767\n",
      "3800   0.778    0.750\n",
      "4000   0.807    0.744\n",
      "4200   0.731    0.774\n",
      "4400   0.759    0.761\n",
      "4600   0.732    0.769\n",
      "4800   0.762    0.751\n",
      "5000   0.763    0.769\n",
      "5200   0.709    0.781\n",
      "5400   0.738    0.759\n",
      "5600   0.669    0.791\n",
      "5800   0.767    0.778\n",
      "6000   0.718    0.767\n",
      "6200   0.749    0.754\n",
      "6400   0.719    0.769\n",
      "6600   0.630    0.804\n",
      "6800   0.755    0.767\n",
      "7000   0.717    0.777\n",
      "7200   0.755    0.762\n",
      "7400   0.701    0.771\n",
      "7600   0.714    0.772\n",
      "7800   0.672    0.777\n",
      "8000   0.656    0.797\n",
      "8200   0.676    0.782\n",
      "8400   0.698    0.791\n",
      "8600   0.677    0.782\n",
      "8800   0.693    0.776\n",
      "9000   0.696    0.780\n",
      "9200   0.679    0.783\n",
      "9400   0.723    0.762\n",
      "9600   0.679    0.776\n",
      "9800   0.666    0.786\n",
      "10000  0.676    0.777\n",
      "10200  0.633    0.789\n",
      "10400  0.662    0.780\n",
      "10600  0.732    0.766\n",
      "10800  0.654    0.788\n",
      "11000  0.673    0.779\n",
      "11200  0.643    0.796\n",
      "11400  0.694    0.789\n",
      "11600  0.651    0.780\n",
      "11800  0.667    0.794\n",
      "12000  0.659    0.779\n",
      "12200  0.602    0.797\n",
      "12400  0.696    0.777\n",
      "12600  0.609    0.801\n",
      "12800  0.651    0.804\n",
      "13000  0.635    0.801\n",
      "13200  0.690    0.772\n",
      "13400  0.635    0.786\n",
      "13600  0.676    0.774\n",
      "13800  0.641    0.789\n",
      "14000  0.670    0.784\n",
      "14200  0.611    0.793\n",
      "14400  0.630    0.799\n",
      "14600  0.650    0.792\n",
      "14800  0.600    0.807\n",
      "15000  0.648    0.784\n",
      "15200  0.654    0.781\n",
      "15400  0.605    0.794\n",
      "15600  0.660    0.784\n",
      "15800  0.623    0.795\n",
      "16000  0.614    0.801\n",
      "16200  0.557    0.818\n",
      "16400  0.660    0.783\n",
      "16600  0.674    0.778\n",
      "16800  0.612    0.796\n",
      "17000  0.629    0.801\n",
      "17200  0.594    0.802\n",
      "17400  0.655    0.786\n",
      "17600  0.634    0.788\n",
      "17800  0.617    0.799\n",
      "18000  0.650    0.771\n",
      "18200  0.608    0.806\n",
      "18400  0.637    0.798\n",
      "18600  0.608    0.802\n",
      "18800  0.613    0.800\n",
      "19000  0.605    0.802\n",
      "19200  0.631    0.783\n",
      "19400  0.615    0.785\n",
      "19600  0.632    0.786\n",
      "19800  0.635    0.792\n",
      "20000  0.589    0.815\n",
      "20200  0.632    0.789\n",
      "20400  0.641    0.787\n",
      "20600  0.621    0.791\n",
      "20800  0.624    0.802\n",
      "21000  0.604    0.794\n",
      "21200  0.588    0.799\n",
      "21400  0.617    0.794\n",
      "21600  0.627    0.803\n",
      "21800  0.632    0.790\n",
      "22000  0.629    0.794\n",
      "22200  0.633    0.783\n",
      "22400  0.650    0.784\n",
      "22600  0.613    0.792\n",
      "22800  0.633    0.789\n",
      "23000  0.549    0.814\n",
      "23200  0.646    0.792\n",
      "23400  0.624    0.784\n",
      "23600  0.639    0.781\n",
      "23800  0.605    0.791\n",
      "24000  0.555    0.798\n"
     ]
    },
    {
     "name": "stderr",
     "output_type": "stream",
     "text": [
      "/home/alta/Conversational/OET/al826/2021/dialogue_acts/framework/src/experiment.py:80: RuntimeWarning: invalid value encountered in true_divide\n",
      "  precision = true_positives/pred_count\n"
     ]
    },
    {
     "name": "stdout",
     "output_type": "stream",
     "text": [
      "acc: 0.795  macro F1 0.592  micro F1 0.788\n",
      "acc: 0.787  macro F1 0.637  micro F1 0.780\n"
     ]
    },
    {
     "name": "stderr",
     "output_type": "stream",
     "text": [
      "/home/alta/Conversational/OET/al826/2021/dialogue_acts/framework/src/experiment.py:81: RuntimeWarning: invalid value encountered in true_divide\n",
      "  recall = true_positives/label_count\n",
      "/home/alta/Conversational/OET/al826/2021/dialogue_acts/framework/src/experiment.py:86: RuntimeWarning: invalid value encountered in true_divide\n",
      "  F1 = 2*(precision*recall)/(precision+recall)\n"
     ]
    }
   ],
   "source": [
    "from types import SimpleNamespace\n",
    "from src.experiment import ExperimentHandler \n",
    "\n",
    "system_cfg = {'punct':True, 'action':True, 'context':'back_history', 'context_len':5}\n",
    "train_cfg = {'lr':1e-5, 'scheduling':False, 'epochs':1, 'print_len':200, 'bsz':8}\n",
    "\n",
    "system_cfg = SimpleNamespace(**system_cfg)\n",
    "train_cfg = SimpleNamespace(**train_cfg)\n",
    "\n",
    "E = ExperimentHandler(system_cfg)\n",
    "E.train(train_cfg)"
   ]
  },
  {
   "cell_type": "code",
   "execution_count": 6,
   "metadata": {},
   "outputs": [
    {
     "name": "stderr",
     "output_type": "stream",
     "text": [
      "<ipython-input-6-a857d6f11367>:20: RuntimeWarning: invalid value encountered in true_divide\n",
      "  precision = true_positives/pred_count\n"
     ]
    }
   ],
   "source": [
    "import numpy as np\n",
    "import torch\n",
    "import time\n",
    "\n",
    "dataset = E.D.dev\n",
    "\n",
    "confusion_matrix = np.zeros([len(E.D.act_id_dict), len(E.D.act_id_dict)])\n",
    "for k, batch in enumerate(E.B.batches(dataset), start=1):\n",
    "    y = E.model(batch.ids, batch.mask)\n",
    "    loss = E.cross_loss(y, batch.labels)\n",
    "\n",
    "    y_pred = torch.argmax(y, -1)\n",
    "    for pred, lab in zip(y_pred, batch.labels):\n",
    "        confusion_matrix[lab, pred] += 1\n",
    "        \n",
    "true_positives = np.diagonal(confusion_matrix)\n",
    "label_count    = np.sum(confusion_matrix, axis=1)\n",
    "pred_count     = np.sum(confusion_matrix, axis=0)\n",
    "\n",
    "precision = true_positives/pred_count\n",
    "recall = true_positives/label_count"
   ]
  },
  {
   "cell_type": "code",
   "execution_count": null,
   "metadata": {},
   "outputs": [],
   "source": []
  },
  {
   "cell_type": "code",
   "execution_count": 7,
   "metadata": {},
   "outputs": [
    {
     "name": "stdout",
     "output_type": "stream",
     "text": [
      "0.794885745375408\n"
     ]
    }
   ],
   "source": [
    "accuracy = sum(true_positives)/sum(label_count)\n",
    "print(accuracy)"
   ]
  },
  {
   "cell_type": "code",
   "execution_count": 10,
   "metadata": {},
   "outputs": [
    {
     "data": {
      "image/png": "[encoded data removed]",
      "text/plain": [
       "<Figure size 576x576 with 1 Axes>"
      ]
     },
     "metadata": {},
     "output_type": "display_data"
    }
   ],
   "source": [
    "from matplotlib import pyplot as plt\n",
    "import seaborn as sns\n",
    "import pandas as pd\n",
    "\n",
    "sns.set_theme()\n",
    "\n",
    "rev_dict = {v:k for k,v in E.D.act_id_dict.items()}\n",
    "act_classes = [E.D.act_names_dict[rev_dict[i]] for i in range(len(rev_dict))]\n",
    "data = {'index':act_classes, 'precision':precision, 'recall':recall}\n",
    "\n",
    "df = pd.DataFrame(data)\n",
    "df = df[df.recall.notna()]\n",
    "tidy = df[-13:].melt(id_vars='index').rename(columns=str.title)\n",
    "\n",
    "plt.figure(figsize=(8,8))\n",
    "\n",
    "ax = sns.barplot(y=\"Index\", \n",
    "            x=\"Value\", \n",
    "            hue=\"Variable\",\n",
    "            orient='h',\n",
    "            data=tidy)\n",
    "\n",
    "ax.set(xlabel=None)\n",
    "ax.legend_.set_title(None)"
   ]
  },
  {
   "cell_type": "code",
   "execution_count": null,
   "metadata": {},
   "outputs": [],
   "source": []
  }
 ],
 "metadata": {
  "kernelspec": {
   "display_name": "Python 3",
   "language": "python",
   "name": "python3"
  },
  "language_info": {
   "codemirror_mode": {
    "name": "ipython",
    "version": 3
   },
   "file_extension": ".py",
   "mimetype": "text/x-python",
   "name": "python",
   "nbconvert_exporter": "python",
   "pygments_lexer": "ipython3",
   "version": "3.8.5"
  }
 },
 "nbformat": 4,
 "nbformat_minor": 4
}
